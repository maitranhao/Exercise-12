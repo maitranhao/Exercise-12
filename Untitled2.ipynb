{
  "nbformat": 4,
  "nbformat_minor": 0,
  "metadata": {
    "colab": {
      "provenance": []
    },
    "kernelspec": {
      "name": "python3",
      "display_name": "Python 3"
    },
    "language_info": {
      "name": "python"
    }
  },
  "cells": [
    {
      "cell_type": "code",
      "execution_count": null,
      "metadata": {
        "id": "uLV5rBoCPYqL"
      },
      "outputs": [],
      "source": [
        "# Data Science Tools and Ecosystem"
      ]
    },
    {
      "cell_type": "code",
      "source": [
        "In this notebook, we summarize key concepts and tools used in the field of Data Science.\n",
        "You’ll find examples of programming languages, libraries, and arithmetic operations commonly used by data scientists."
      ],
      "metadata": {
        "id": "3mOVxz0rQncG"
      },
      "execution_count": null,
      "outputs": []
    },
    {
      "cell_type": "code",
      "source": [
        "### Data Science Languages\n",
        "Some of the popular languages that Data Scientists use are:\n",
        "1. Python\n",
        "2. R\n",
        "3. SQL\n",
        "4. Julia\n",
        "5. Scala"
      ],
      "metadata": {
        "id": "YhvwjmozPhlp"
      },
      "execution_count": null,
      "outputs": []
    },
    {
      "cell_type": "code",
      "source": [
        "### Data Science Libraries\n",
        "Some of the commonly used libraries by Data Scientists include:\n",
        "1. Pandas\n",
        "2. NumPy\n",
        "3. Matplotlib\n",
        "4. Scikit-learn\n",
        "5. TensorFlow"
      ],
      "metadata": {
        "id": "RoBwJMOpPiuB"
      },
      "execution_count": null,
      "outputs": []
    },
    {
      "cell_type": "code",
      "source": [
        "### Data Science Tools\n",
        "\n",
        "| Tool | Category | Description |\n",
        "|------|-----------|-------------|\n",
        "| Jupyter Notebook | IDE | Interactive environment for running Python code |\n",
        "| RStudio | IDE | Integrated development environment for R |\n",
        "| Apache Spark | Big Data | Cluster-computing framework for large-scale data processing |\n",
        "| TensorFlow | ML Framework | Deep learning and machine learning library |\n",
        "| Tableau | Visualization | Data visualization and business intelligence software |"
      ],
      "metadata": {
        "id": "Gl8B2ELRPkzZ"
      },
      "execution_count": null,
      "outputs": []
    },
    {
      "cell_type": "code",
      "source": [
        "### Evaluating Arithmetic Expressions\n",
        "In this section, we will explore how to perform basic arithmetic operations such as addition and multiplication using Python."
      ],
      "metadata": {
        "id": "9pQkl1U0PmJB"
      },
      "execution_count": null,
      "outputs": []
    },
    {
      "cell_type": "code",
      "source": [
        "# This expression multiplies and adds numbers\n",
        "(20 + 5) * 4"
      ],
      "metadata": {
        "colab": {
          "base_uri": "https://localhost:8080/"
        },
        "id": "CHx58OZyPmqB",
        "outputId": "4683f0f2-d581-4c14-c7a6-071047ba781c"
      },
      "execution_count": 1,
      "outputs": [
        {
          "output_type": "execute_result",
          "data": {
            "text/plain": [
              "100"
            ]
          },
          "metadata": {},
          "execution_count": 1
        }
      ]
    },
    {
      "cell_type": "code",
      "source": [
        "# This will convert 200 minutes to hours by dividing by 60\n",
        "minutes = 200\n",
        "hours = minutes / 60\n",
        "hours"
      ],
      "metadata": {
        "colab": {
          "base_uri": "https://localhost:8080/"
        },
        "id": "avDTfjiHRijJ",
        "outputId": "df9d9700-3147-4a09-8d48-977ebb3a6994"
      },
      "execution_count": 2,
      "outputs": [
        {
          "output_type": "execute_result",
          "data": {
            "text/plain": [
              "3.3333333333333335"
            ]
          },
          "metadata": {},
          "execution_count": 2
        }
      ]
    },
    {
      "cell_type": "code",
      "source": [
        "### Objectives\n",
        "- List popular languages used by Data Scientists\n",
        "- List commonly used Data Science libraries\n",
        "- Create tables listing Data Science tools\n",
        "- Perform arithmetic expressions in Python\n",
        "- Convert minutes into hours"
      ],
      "metadata": {
        "id": "nEClkAE0RlNf"
      },
      "execution_count": null,
      "outputs": []
    },
    {
      "cell_type": "code",
      "source": [
        "## Author\n",
        "Trần Hạo Mai"
      ],
      "metadata": {
        "id": "JSNvZXiARn4f"
      },
      "execution_count": null,
      "outputs": []
    }
  ]
}